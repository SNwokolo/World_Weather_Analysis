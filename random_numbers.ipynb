{
 "cells": [
  {
   "cell_type": "code",
   "execution_count": 1,
   "id": "ece5ad71",
   "metadata": {},
   "outputs": [],
   "source": [
    "# Import random library\n",
    "import random"
   ]
  },
  {
   "cell_type": "code",
   "execution_count": 2,
   "id": "176c7421",
   "metadata": {},
   "outputs": [
    {
     "data": {
      "text/plain": [
       "-55"
      ]
     },
     "execution_count": 2,
     "metadata": {},
     "output_type": "execute_result"
    }
   ],
   "source": [
    "# Using randint to get a random whole number\n",
    "random.randint(-90, 90)"
   ]
  },
  {
   "cell_type": "code",
   "execution_count": 3,
   "id": "d2ceaa7a",
   "metadata": {},
   "outputs": [
    {
     "data": {
      "text/plain": [
       "0.5192131456304174"
      ]
     },
     "execution_count": 3,
     "metadata": {},
     "output_type": "execute_result"
    }
   ],
   "source": [
    "# Use the random() fn to generate a float btwn 0 & 1\n",
    "random.random()"
   ]
  },
  {
   "cell_type": "code",
   "execution_count": 7,
   "id": "5c7f2e13",
   "metadata": {},
   "outputs": [
    {
     "data": {
      "text/plain": [
       "33.805450737836956"
      ]
     },
     "execution_count": 7,
     "metadata": {},
     "output_type": "execute_result"
    }
   ],
   "source": [
    "# Combine the above functions to generate random latitude values\n",
    "random_number = random.randint(-90, 89) + random.random()\n",
    "random_number"
   ]
  },
  {
   "cell_type": "code",
   "execution_count": 9,
   "id": "f2042f6d",
   "metadata": {},
   "outputs": [
    {
     "data": {
      "text/plain": [
       "[82.90364063961626,\n",
       " -42.16734565092237,\n",
       " 50.65605791584335,\n",
       " 36.081838511463054,\n",
       " -64.56935210652081,\n",
       " -2.4657575950683626,\n",
       " 24.624582587333425,\n",
       " 58.22755343135547,\n",
       " 8.953611426225454,\n",
       " 71.57475806089013]"
      ]
     },
     "execution_count": 9,
     "metadata": {},
     "output_type": "execute_result"
    }
   ],
   "source": [
    "# To generate 10 random latitude values using a while loop\n",
    "x = 1\n",
    "latitudes = []\n",
    "while x < 11:\n",
    "    random_lat = random.randint(-90, 89) + random.random()\n",
    "    latitudes.append(random_lat)\n",
    "    x += 1\n",
    "latitudes"
   ]
  },
  {
   "cell_type": "code",
   "execution_count": 10,
   "id": "f3864cb6",
   "metadata": {},
   "outputs": [
    {
     "data": {
      "text/plain": [
       "6"
      ]
     },
     "execution_count": 10,
     "metadata": {},
     "output_type": "execute_result"
    }
   ],
   "source": [
    "# To generate a random int with specified step arguments in the range\n",
    "random.randrange(-90, 90, step=1)\n",
    "#If you don't add the step parameter, the output will be a number with an increment of 1, which is the default integer value."
   ]
  },
  {
   "cell_type": "code",
   "execution_count": 12,
   "id": "ea4d56b0",
   "metadata": {},
   "outputs": [
    {
     "data": {
      "text/plain": [
       "-24"
      ]
     },
     "execution_count": 12,
     "metadata": {},
     "output_type": "execute_result"
    }
   ],
   "source": [
    "random.randrange(-90, 90, step=3)"
   ]
  },
  {
   "cell_type": "code",
   "execution_count": 13,
   "id": "c5eece6a",
   "metadata": {},
   "outputs": [
    {
     "data": {
      "text/plain": [
       "27.923697450593778"
      ]
     },
     "execution_count": 13,
     "metadata": {},
     "output_type": "execute_result"
    }
   ],
   "source": [
    "# The uniform() function will allow us to generate a floating-point decimal number between two given numbers inside the parentheses.\n",
    "random.uniform(-90, 90)"
   ]
  },
  {
   "cell_type": "code",
   "execution_count": 14,
   "id": "d6c1799a",
   "metadata": {},
   "outputs": [],
   "source": [
    "# Import the numpy module\n",
    "import numpy as np"
   ]
  },
  {
   "cell_type": "code",
   "execution_count": 15,
   "id": "71039695",
   "metadata": {},
   "outputs": [
    {
     "data": {
      "text/plain": [
       "17.167568704807323"
      ]
     },
     "execution_count": 15,
     "metadata": {},
     "output_type": "execute_result"
    }
   ],
   "source": [
    "# Use the numpy random function\n",
    "np.random.uniform(-90.000, 90.000)"
   ]
  },
  {
   "cell_type": "code",
   "execution_count": 16,
   "id": "d98d6a92",
   "metadata": {},
   "outputs": [
    {
     "data": {
      "text/plain": [
       "array([ -1.35187349,  18.54226993,  60.27628039, -65.47509537,\n",
       "       -13.80554656,  -4.2511302 , -88.70608803, -73.96120695,\n",
       "        -4.33807628,  44.65804041, -31.7612762 ,  70.08192826,\n",
       "        71.77846272, -88.53124152, -20.64067685,  89.69152954,\n",
       "       -35.6569957 , -70.05241989, -65.86165892,  20.20364376,\n",
       "        56.01217863,  18.22231682, -13.68196141,  79.89991729,\n",
       "       -22.54944789, -66.25310482, -53.58388656, -81.72472118,\n",
       "       -10.53658911,  79.3654808 , -36.60312083, -71.16418095,\n",
       "        16.73417351, -13.60189737,  -0.51662879, -13.21131169,\n",
       "       -43.88893636, -27.69819218, -16.36104817, -31.84757238,\n",
       "       -85.66808725,  38.04672266,   6.45792553, -38.15424446,\n",
       "       -12.66172887, -39.31744334,  58.78841975, -30.05567321,\n",
       "       -41.31985662, -44.4228251 ])"
      ]
     },
     "execution_count": 16,
     "metadata": {},
     "output_type": "execute_result"
    }
   ],
   "source": [
    "# include a size for the values\n",
    "np.random.uniform(-90.000, 90.000, size = 50)"
   ]
  },
  {
   "cell_type": "code",
   "execution_count": 17,
   "id": "985b6fc2",
   "metadata": {},
   "outputs": [],
   "source": [
    "# To test how long a piece of code or function takes to run, we can import the \"timeit\" module \n",
    "import timeit"
   ]
  },
  {
   "cell_type": "code",
   "execution_count": 18,
   "id": "f053a9ad",
   "metadata": {},
   "outputs": [
    {
     "name": "stdout",
     "output_type": "stream",
     "text": [
      "19 µs ± 221 ns per loop (mean ± std. dev. of 7 runs, 10,000 loops each)\n"
     ]
    }
   ],
   "source": [
    "%timeit np.random.uniform(-90.000, 90.000, size=1500)"
   ]
  },
  {
   "cell_type": "code",
   "execution_count": 19,
   "id": "3910339b",
   "metadata": {},
   "outputs": [
    {
     "name": "stdout",
     "output_type": "stream",
     "text": [
      "2.07 ms ± 10.1 µs per loop (mean ± std. dev. of 7 runs, 100 loops each)\n"
     ]
    }
   ],
   "source": [
    "def latitudes(size):\n",
    "    latitudes = []\n",
    "    x = 0\n",
    "    while x < (size):\n",
    "        random_lat = random.randint(-90, 90) + random.random()\n",
    "        latitudes.append(random_lat)\n",
    "        x += 1\n",
    "    return latitudes\n",
    "# Call the function with 1500.\n",
    "%timeit latitudes(1500)\n"
   ]
  },
  {
   "cell_type": "code",
   "execution_count": null,
   "id": "d323fc98",
   "metadata": {},
   "outputs": [],
   "source": []
  }
 ],
 "metadata": {
  "kernelspec": {
   "display_name": "PythonData",
   "language": "python",
   "name": "pythondata"
  },
  "language_info": {
   "codemirror_mode": {
    "name": "ipython",
    "version": 3
   },
   "file_extension": ".py",
   "mimetype": "text/x-python",
   "name": "python",
   "nbconvert_exporter": "python",
   "pygments_lexer": "ipython3",
   "version": "3.9.12"
  }
 },
 "nbformat": 4,
 "nbformat_minor": 5
}
